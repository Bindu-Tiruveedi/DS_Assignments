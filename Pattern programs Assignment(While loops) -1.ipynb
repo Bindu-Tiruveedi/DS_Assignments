{
 "cells": [
  {
   "cell_type": "code",
   "execution_count": null,
   "id": "4e226b86",
   "metadata": {},
   "outputs": [],
   "source": [
    "Pattern1"
   ]
  },
  {
   "cell_type": "code",
   "execution_count": 10,
   "id": "bb868ffd",
   "metadata": {},
   "outputs": [
    {
     "name": "stdout",
     "output_type": "stream",
     "text": [
      "1 \n",
      "\n",
      "1 2 \n",
      "\n",
      "1 2 3 \n",
      "\n",
      "1 2 3 4 \n",
      "\n",
      "1 2 3 4 5 \n",
      "\n",
      "1 2 3 4 5 6 \n",
      "\n",
      "1 2 3 4 5 6 7 \n",
      "\n"
     ]
    }
   ],
   "source": [
    "n=7\n",
    "i=1\n",
    "while i<=n:\n",
    "    j=1\n",
    "    while j<=i:\n",
    "        print(j, end=\" \")\n",
    "        j=j+1\n",
    "    print(\"\\n\")\n",
    "    i=i+1"
   ]
  },
  {
   "cell_type": "code",
   "execution_count": 12,
   "id": "b99936aa",
   "metadata": {},
   "outputs": [
    {
     "name": "stdout",
     "output_type": "stream",
     "text": [
      "A \n",
      "\n",
      "A B \n",
      "\n",
      "A B C \n",
      "\n",
      "A B C D \n",
      "\n",
      "A B C D E \n",
      "\n",
      "A B C D E F \n",
      "\n",
      "A B C D E F G \n",
      "\n"
     ]
    }
   ],
   "source": [
    "n=71\n",
    "i=65\n",
    "while i<=n:\n",
    "    j=65\n",
    "    while j<=i:\n",
    "        print(chr(j), end=\" \")\n",
    "        j=j+1\n",
    "    print(\"\\n\")\n",
    "    i=i+1"
   ]
  },
  {
   "cell_type": "code",
   "execution_count": 14,
   "id": "7223267b",
   "metadata": {},
   "outputs": [
    {
     "name": "stdout",
     "output_type": "stream",
     "text": [
      "* \n",
      "* * \n",
      "* * * \n",
      "* * * * \n",
      "* * * * * \n",
      "* * * * * * \n"
     ]
    }
   ],
   "source": [
    "i=1\n",
    "n=6\n",
    "\n",
    "while i<=6:\n",
    "    print(\"* \"*i, end=\"\\n\")\n",
    "    i=i+1"
   ]
  },
  {
   "cell_type": "code",
   "execution_count": 18,
   "id": "d95360fc",
   "metadata": {},
   "outputs": [
    {
     "name": "stdout",
     "output_type": "stream",
     "text": [
      "1 \n",
      "\n",
      "2 2 \n",
      "\n",
      "3 3 3 \n",
      "\n",
      "4 4 4 4 \n",
      "\n",
      "5 5 5 5 5 \n",
      "\n",
      "6 6 6 6 6 6 \n",
      "\n",
      "7 7 7 7 7 7 7 \n",
      "\n"
     ]
    }
   ],
   "source": [
    "i=1\n",
    "n=7\n",
    "\n",
    "while i<=n:\n",
    "    j=0\n",
    "    while j<i:\n",
    "        print(i, end=\" \")\n",
    "        j=j+1\n",
    "    print(\"\\n\")\n",
    "    i=i+1\n",
    "    "
   ]
  },
  {
   "cell_type": "code",
   "execution_count": 20,
   "id": "ff8414d2",
   "metadata": {},
   "outputs": [
    {
     "name": "stdout",
     "output_type": "stream",
     "text": [
      "A\n",
      "BB\n",
      "CCC\n",
      "DDDD\n",
      "EEEEE\n",
      "FFFFFF\n",
      "GGGGGGG\n"
     ]
    }
   ],
   "source": [
    "i=65\n",
    "n=71\n",
    "x=1\n",
    "\n",
    "while i<=n:\n",
    "    print(chr(i)*x, end=\"\\n\")\n",
    "    x=x+1\n",
    "    i+=1\n"
   ]
  },
  {
   "cell_type": "code",
   "execution_count": 23,
   "id": "5968abb6",
   "metadata": {},
   "outputs": [
    {
     "name": "stdout",
     "output_type": "stream",
     "text": [
      "      *\n",
      "     **\n",
      "    ***\n",
      "   ****\n",
      "  *****\n"
     ]
    }
   ],
   "source": [
    "x=1\n",
    "i=5\n",
    "n=1\n",
    "while i>=n:\n",
    "    print(\" \"*i,x*\"*\")\n",
    "    x=x+1\n",
    "    i-=1\n",
    "    \n"
   ]
  },
  {
   "cell_type": "code",
   "execution_count": 25,
   "id": "a4db5f25",
   "metadata": {},
   "outputs": [
    {
     "name": "stdout",
     "output_type": "stream",
     "text": [
      "     *      \n",
      "    ***     \n",
      "   *****    \n",
      "  *******   \n",
      " *********  \n",
      "*********** \n"
     ]
    }
   ],
   "source": [
    "i=1\n",
    "n=12\n",
    "\n",
    "while i<=n:\n",
    "    print((i*\"*\").center(12,\" \"))\n",
    "    i+=2"
   ]
  },
  {
   "cell_type": "code",
   "execution_count": 95,
   "id": "c6a48ad6",
   "metadata": {
    "scrolled": true
   },
   "outputs": [
    {
     "name": "stdout",
     "output_type": "stream",
     "text": [
      "     1     \n",
      "    1 2    \n",
      "   1 2 3   \n",
      "  1 2 3 4  \n",
      " 1 2 3 4 5 \n"
     ]
    }
   ],
   "source": [
    "s=\" \"\n",
    "i=1\n",
    "n=5\n",
    "while i<=n:\n",
    "    s+=f\"{i}\"+\" \"\n",
    "    print(s.center(11, \" \"))\n",
    "    i+=1\n",
    "s=\" \"\n"
   ]
  },
  {
   "cell_type": "code",
   "execution_count": 30,
   "id": "61e4967a",
   "metadata": {},
   "outputs": [
    {
     "name": "stdout",
     "output_type": "stream",
     "text": [
      "     5     \n",
      "    5 4    \n",
      "   5 4 3   \n",
      "  5 4 3 2  \n",
      " 5 4 3 2 1 \n"
     ]
    }
   ],
   "source": [
    "s=\" \"\n",
    "i=5\n",
    "n=1\n",
    "while i>=n:\n",
    "    s+=f\"{i}\"+\" \"\n",
    "    print(s.center(11, \" \"))\n",
    "    i-=1\n",
    "s=\" \"\n"
   ]
  },
  {
   "cell_type": "code",
   "execution_count": 37,
   "id": "de97b282",
   "metadata": {},
   "outputs": [
    {
     "name": "stdout",
     "output_type": "stream",
     "text": [
      "      A      \n",
      "     A B     \n",
      "    A B C    \n",
      "   A B C D   \n",
      "  A B C D E  \n",
      " A B C D E F \n"
     ]
    }
   ],
   "source": [
    "s=\" \"\n",
    "i=65\n",
    "n=70\n",
    "while i<=n:\n",
    "    s+=chr(i)+\" \"\n",
    "    i+=1\n",
    "    print(s.center(13, \" \"))\n",
    "s=\" \""
   ]
  },
  {
   "cell_type": "code",
   "execution_count": 39,
   "id": "60b6ec6c",
   "metadata": {},
   "outputs": [
    {
     "name": "stdout",
     "output_type": "stream",
     "text": [
      "      F      \n",
      "     F E     \n",
      "    F E D    \n",
      "   F E D C   \n",
      "  F E D C B  \n",
      " F E D C B A \n"
     ]
    }
   ],
   "source": [
    "s=\" \"\n",
    "i=70\n",
    "n=65\n",
    "while i>=n:\n",
    "    s+=chr(i)+\" \"\n",
    "    i-=1\n",
    "    print(s.center(13, \" \"))\n",
    "s=\" \""
   ]
  },
  {
   "cell_type": "code",
   "execution_count": 49,
   "id": "ec5cf68d",
   "metadata": {},
   "outputs": [
    {
     "name": "stdout",
     "output_type": "stream",
     "text": [
      "      *      \n",
      "     ***     \n",
      "    *****    \n",
      "   *******   \n",
      "  *********  \n"
     ]
    }
   ],
   "source": [
    "s=\" \"\n",
    "i=1\n",
    "n=10\n",
    "while i<=n:\n",
    "    s=i*\"*\"\n",
    "    i+=2\n",
    "    print(s.center(13, \" \"))\n",
    "s=\" \""
   ]
  },
  {
   "cell_type": "code",
   "execution_count": 57,
   "id": "d06d026d",
   "metadata": {
    "scrolled": false
   },
   "outputs": [
    {
     "name": "stdout",
     "output_type": "stream",
     "text": [
      "      1      \n",
      "     2 2     \n",
      "    3 3 3    \n",
      "   4 4 4 4   \n",
      "  5 5 5 5 5  \n",
      " 6 6 6 6 6 6 \n"
     ]
    }
   ],
   "source": [
    "i=1\n",
    "n=6\n",
    "s=\" \"\n",
    "while i<=n:\n",
    "    j=0\n",
    "    while j<i:\n",
    "        s+=f\"{i}\"+\" \"\n",
    "        j=j+1\n",
    "\n",
    "    print(s.center(13, \" \"))\n",
    "    i=i+1\n",
    "    s=\" \"\n",
    "    "
   ]
  },
  {
   "cell_type": "code",
   "execution_count": 61,
   "id": "904a18cb",
   "metadata": {
    "scrolled": true
   },
   "outputs": [
    {
     "name": "stdout",
     "output_type": "stream",
     "text": [
      "       A       \n",
      "      B B      \n",
      "     C C C     \n",
      "    D D D D    \n",
      "   E E E E E   \n",
      "  F F F F F F  \n",
      " G G G G G G G \n"
     ]
    }
   ],
   "source": [
    "i=65\n",
    "n=71\n",
    "s=\" \"\n",
    "while i<=n:\n",
    "    j=64\n",
    "    while j<i:\n",
    "        s+=chr(i)+\" \"\n",
    "        j=j+1\n",
    "\n",
    "    print(s.center(15, \" \"))\n",
    "    i=i+1\n",
    "    s=\" \"\n",
    "    "
   ]
  },
  {
   "cell_type": "code",
   "execution_count": null,
   "id": "abc20ca3",
   "metadata": {},
   "outputs": [],
   "source": []
  },
  {
   "cell_type": "code",
   "execution_count": 65,
   "id": "831b3e81",
   "metadata": {},
   "outputs": [
    {
     "name": "stdout",
     "output_type": "stream",
     "text": [
      "       1       \n",
      "      1 2      \n",
      "     1 2 3     \n",
      "    1 2 3 4    \n",
      "   1 2 3 4 5   \n",
      "  1 2 3 4 5 6  \n",
      " 1 2 3 4 5 6 7 \n"
     ]
    }
   ],
   "source": [
    "s=\" \"\n",
    "i=1\n",
    "n=7\n",
    "while i<=n:\n",
    "    s+=f\"{i}\"+\" \"\n",
    "    print(s.center(15,\" \"))\n",
    "    i=i+1\n",
    "s=\" \""
   ]
  },
  {
   "cell_type": "code",
   "execution_count": null,
   "id": "5cc14d34",
   "metadata": {},
   "outputs": [],
   "source": []
  },
  {
   "cell_type": "code",
   "execution_count": 68,
   "id": "b26fcd61",
   "metadata": {},
   "outputs": [
    {
     "name": "stdout",
     "output_type": "stream",
     "text": [
      "1 2 3 4 5 6 \n",
      "\n",
      "1 2 3 4 5 \n",
      "\n",
      "1 2 3 4 \n",
      "\n",
      "1 2 3 \n",
      "\n",
      "1 2 \n",
      "\n",
      "1 \n",
      "\n"
     ]
    }
   ],
   "source": [
    "i=6\n",
    "n=1\n",
    "while i>=n:\n",
    "    j=1\n",
    "    while j<=i:\n",
    "        print(j, end=\" \")\n",
    "        j=j+1\n",
    "    i=i-1\n",
    "    print(\"\\n\")"
   ]
  },
  {
   "cell_type": "code",
   "execution_count": 75,
   "id": "34507b8e",
   "metadata": {},
   "outputs": [
    {
     "name": "stdout",
     "output_type": "stream",
     "text": [
      "5 4 3 2 1 \n",
      "\n",
      "5 4 3 2 \n",
      "\n",
      "5 4 3 \n",
      "\n",
      "5 4 \n",
      "\n",
      "5 \n",
      "\n",
      "\n",
      "\n"
     ]
    }
   ],
   "source": [
    "x=5\n",
    "i=5\n",
    "n=0\n",
    "while i>=n:\n",
    "    j=i\n",
    "    while j>=1:\n",
    "        print(x, end=\" \")\n",
    "        x=x-1\n",
    "        j=j-1\n",
    "    i=i-1    \n",
    "    print(\"\\n\")\n",
    "    x=5"
   ]
  },
  {
   "cell_type": "code",
   "execution_count": 81,
   "id": "34bc7572",
   "metadata": {},
   "outputs": [
    {
     "name": "stdout",
     "output_type": "stream",
     "text": [
      "\n",
      "\n",
      "5 \n",
      "\n",
      "5 4 \n",
      "\n",
      "5 4 3 \n",
      "\n",
      "5 4 3 2 \n",
      "\n",
      "5 4 3 2 1 \n",
      "\n"
     ]
    }
   ],
   "source": [
    "x=5\n",
    "i=1\n",
    "n=6\n",
    "while i<=n:\n",
    "    j=i\n",
    "    while j>1:\n",
    "        print(x, end=\" \")\n",
    "        x=x-1\n",
    "        j=j-1\n",
    "    i+=1\n",
    "    print(\"\\n\")\n",
    "    x=5"
   ]
  },
  {
   "cell_type": "code",
   "execution_count": 85,
   "id": "d8fb1b8e",
   "metadata": {},
   "outputs": [
    {
     "name": "stdout",
     "output_type": "stream",
     "text": [
      "1 \n",
      "\n",
      "2 3 \n",
      "\n",
      "4 5 6 \n",
      "\n",
      "7 8 9 10 \n",
      "\n",
      "11 12 13 14 15 \n",
      "\n",
      "16 17 18 19 20 21 \n",
      "\n"
     ]
    }
   ],
   "source": [
    "x=1\n",
    "i=1\n",
    "n=6\n",
    "while i<=n:\n",
    "    j=i\n",
    "    while j>=1:\n",
    "        print(x, end=\" \")\n",
    "        x=x+1\n",
    "        j=j-1\n",
    "    i=i+1\n",
    "    print(\"\\n\")"
   ]
  },
  {
   "cell_type": "code",
   "execution_count": 94,
   "id": "b4cb9d1e",
   "metadata": {
    "scrolled": true
   },
   "outputs": [
    {
     "name": "stdout",
     "output_type": "stream",
     "text": [
      "A B C D E F \n",
      "\n",
      "A B C D E \n",
      "\n",
      "A B C D \n",
      "\n",
      "A B C \n",
      "\n",
      "A B \n",
      "\n",
      "A \n",
      "\n"
     ]
    }
   ],
   "source": [
    "i=1\n",
    "n=6\n",
    "while i<=n:\n",
    "    j=65\n",
    "    while j<=71-i:\n",
    "        print(chr(j), end=\" \")\n",
    "        j=j+1\n",
    "    i=i+1\n",
    "        \n",
    "    print(\"\\n\")"
   ]
  }
 ],
 "metadata": {
  "hide_input": false,
  "kernelspec": {
   "display_name": "Python 3 (ipykernel)",
   "language": "python",
   "name": "python3"
  },
  "language_info": {
   "codemirror_mode": {
    "name": "ipython",
    "version": 3
   },
   "file_extension": ".py",
   "mimetype": "text/x-python",
   "name": "python",
   "nbconvert_exporter": "python",
   "pygments_lexer": "ipython3",
   "version": "3.9.12"
  },
  "toc": {
   "base_numbering": 1,
   "nav_menu": {},
   "number_sections": true,
   "sideBar": true,
   "skip_h1_title": false,
   "title_cell": "Table of Contents",
   "title_sidebar": "Contents",
   "toc_cell": false,
   "toc_position": {},
   "toc_section_display": true,
   "toc_window_display": false
  }
 },
 "nbformat": 4,
 "nbformat_minor": 5
}
