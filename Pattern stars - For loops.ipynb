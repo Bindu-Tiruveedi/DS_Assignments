{
 "cells": [
  {
   "cell_type": "code",
   "execution_count": 1,
   "id": "1d431e76",
   "metadata": {},
   "outputs": [
    {
     "name": "stdout",
     "output_type": "stream",
     "text": [
      "*****\n",
      "****\n",
      "***\n",
      "**\n",
      "*\n"
     ]
    }
   ],
   "source": [
    "for i in range(5,0,-1):\n",
    "    print(\"*\"*i)\n",
    "    "
   ]
  },
  {
   "cell_type": "code",
   "execution_count": 4,
   "id": "d495ae61",
   "metadata": {},
   "outputs": [
    {
     "name": "stdout",
     "output_type": "stream",
     "text": [
      "      *\n",
      "     **\n",
      "    ***\n",
      "   ****\n",
      "  *****\n"
     ]
    }
   ],
   "source": [
    "x=5\n",
    "for i in range(1,6):\n",
    "    print(\" \"*x, \"*\"*i)\n",
    "    x=x-1\n",
    "    "
   ]
  },
  {
   "cell_type": "code",
   "execution_count": 5,
   "id": "41a4c177",
   "metadata": {},
   "outputs": [
    {
     "name": "stdout",
     "output_type": "stream",
     "text": [
      "  *****\n",
      "   ****\n",
      "    ***\n",
      "     **\n",
      "      *\n"
     ]
    }
   ],
   "source": [
    "x=1\n",
    "for i in range(5,0,-1):\n",
    "    print(\" \"*x, \"*\"*i)\n",
    "    x=x+1\n",
    "    "
   ]
  },
  {
   "cell_type": "code",
   "execution_count": 8,
   "id": "6efe3426",
   "metadata": {},
   "outputs": [
    {
     "name": "stdout",
     "output_type": "stream",
     "text": [
      "*\n",
      "**\n",
      "***\n",
      "****\n",
      "*****\n",
      "****\n",
      "***\n",
      "**\n",
      "*\n"
     ]
    }
   ],
   "source": [
    "for i in range(1,6):\n",
    "    print(\"*\"*i)\n",
    "\n",
    "for i in range(4,0,-1):\n",
    "    print(\"*\"*i)\n",
    "    \n"
   ]
  },
  {
   "cell_type": "code",
   "execution_count": 12,
   "id": "bb077ba1",
   "metadata": {},
   "outputs": [
    {
     "name": "stdout",
     "output_type": "stream",
     "text": [
      "*****\n",
      "****\n",
      "***\n",
      "**\n",
      "*\n",
      "**\n",
      "***\n",
      "****\n",
      "*****\n"
     ]
    }
   ],
   "source": [
    "\n",
    "for i in range(5,1,-1):\n",
    "    print(\"*\"*i)\n",
    "    \n",
    "\n",
    "for i in range(1,6):\n",
    "    print(\"*\"*i)\n",
    "    \n",
    "    "
   ]
  },
  {
   "cell_type": "code",
   "execution_count": 17,
   "id": "9d4a14d6",
   "metadata": {},
   "outputs": [
    {
     "name": "stdout",
     "output_type": "stream",
     "text": [
      "      *\n",
      "     **\n",
      "    ***\n",
      "   ****\n",
      "  *****\n",
      "   ****\n",
      "    ***\n",
      "     **\n",
      "      *\n"
     ]
    }
   ],
   "source": [
    "x=5\n",
    "for i in range(1,5):\n",
    "    print(\" \"*x, \"*\"*i)\n",
    "    x=x-1\n",
    "    \n",
    "y=1\n",
    "for j in range(5,0,-1):\n",
    "    print(\" \"*y, \"*\"*j)\n",
    "    y=y+1\n",
    "    "
   ]
  },
  {
   "cell_type": "code",
   "execution_count": 22,
   "id": "8b068d12",
   "metadata": {},
   "outputs": [
    {
     "name": "stdout",
     "output_type": "stream",
     "text": [
      "  *****\n",
      "   ****\n",
      "    ***\n",
      "     **\n",
      "      *\n",
      "     **\n",
      "    ***\n",
      "   ****\n",
      "  *****\n"
     ]
    }
   ],
   "source": [
    "y=1\n",
    "for j in range(5,1,-1):\n",
    "    print(\" \"*y, \"*\"*j)\n",
    "    y=y+1\n",
    "    \n",
    "x=5\n",
    "for i in range(1,6):\n",
    "    print(\" \"*x, \"*\"*i)\n",
    "    x=x-1"
   ]
  },
  {
   "cell_type": "code",
   "execution_count": 24,
   "id": "ea5ded97",
   "metadata": {},
   "outputs": [
    {
     "name": "stdout",
     "output_type": "stream",
     "text": [
      "     *      \n",
      "    ***     \n",
      "   *****    \n",
      "  *******   \n",
      " *********  \n"
     ]
    }
   ],
   "source": [
    "x=\"\"\n",
    "for i in range(1,10,2):\n",
    "    x= i*\"*\"\n",
    "    print(x.center(12, \" \"))"
   ]
  },
  {
   "cell_type": "code",
   "execution_count": 31,
   "id": "cafcadf9",
   "metadata": {},
   "outputs": [
    {
     "name": "stdout",
     "output_type": "stream",
     "text": [
      "  ***********  \n",
      "   *********   \n",
      "    *******    \n",
      "     *****     \n",
      "      ***      \n",
      "       *       \n",
      "      ***      \n",
      "     *****     \n",
      "    *******    \n",
      "   *********   \n",
      "  ***********  \n"
     ]
    }
   ],
   "source": [
    "x=\"\"\n",
    "for i in range(11,1,-2):\n",
    "    x= i*\"*\"\n",
    "    print(x.center(15, \" \"))\n",
    "    \n",
    "x=\"\"\n",
    "for i in range(1,13,2):\n",
    "    x= i*\"*\"\n",
    "    print(x.center(15, \" \"))"
   ]
  },
  {
   "cell_type": "code",
   "execution_count": 21,
   "id": "db71def2",
   "metadata": {},
   "outputs": [
    {
     "name": "stdout",
     "output_type": "stream",
     "text": [
      "*        *\n",
      "**      **\n",
      "***    ***\n",
      "****  ****\n",
      "**********\n"
     ]
    }
   ],
   "source": [
    "x=8\n",
    "for i in range(1,6,1):\n",
    "    print(i*\"*\"+\" \"*x+i*\"*\")\n",
    "    x=x-2\n",
    "\n"
   ]
  },
  {
   "cell_type": "code",
   "execution_count": 22,
   "id": "58325387",
   "metadata": {},
   "outputs": [
    {
     "name": "stdout",
     "output_type": "stream",
     "text": [
      "**********\n",
      "****  ****\n",
      "***    ***\n",
      "**      **\n",
      "*        *\n"
     ]
    }
   ],
   "source": [
    "x=0\n",
    "for i in range(5,0,-1):\n",
    "    print(i*\"*\"+\" \"*x+i*\"*\")\n",
    "    x=x+2"
   ]
  },
  {
   "cell_type": "code",
   "execution_count": 24,
   "id": "ccd83929",
   "metadata": {},
   "outputs": [
    {
     "name": "stdout",
     "output_type": "stream",
     "text": [
      "*        *\n",
      "**      **\n",
      "***    ***\n",
      "****  ****\n",
      "**********\n",
      "**********\n",
      "****  ****\n",
      "***    ***\n",
      "**      **\n",
      "*        *\n"
     ]
    }
   ],
   "source": [
    "x=8\n",
    "y=0\n",
    "for i in range(1,6,1):\n",
    "    print(i*\"*\"+\" \"*x+i*\"*\")\n",
    "    x=x-2\n",
    "for i in range(5,0,-1):\n",
    "    print(i*\"*\"+\" \"*y+i*\"*\")\n",
    "    y=y+2"
   ]
  },
  {
   "cell_type": "code",
   "execution_count": 25,
   "id": "0c187790",
   "metadata": {},
   "outputs": [
    {
     "name": "stdout",
     "output_type": "stream",
     "text": [
      "**********\n",
      "****  ****\n",
      "***    ***\n",
      "**      **\n",
      "*        *\n",
      "*        *\n",
      "**      **\n",
      "***    ***\n",
      "****  ****\n",
      "**********\n"
     ]
    }
   ],
   "source": [
    "x=8\n",
    "y=0\n",
    "for i in range(5,0,-1):\n",
    "    print(i*\"*\"+\" \"*y+i*\"*\")\n",
    "    y=y+2\n",
    "for i in range(1,6,1):\n",
    "    print(i*\"*\"+\" \"*x+i*\"*\")\n",
    "    x=x-2\n"
   ]
  },
  {
   "cell_type": "code",
   "execution_count": 31,
   "id": "eccb709c",
   "metadata": {},
   "outputs": [
    {
     "name": "stdout",
     "output_type": "stream",
     "text": [
      "*\n",
      "**\n",
      "* *\n",
      "*  *\n",
      "*****\n"
     ]
    }
   ],
   "source": [
    "for i in range(1,6):\n",
    "    if i<=2:\n",
    "        print(i*\"*\")\n",
    "    elif i>2 and i<5:\n",
    "        print(\"*\"+\" \"*(i-2)+\"*\")\n",
    "    else:\n",
    "        print(i*\"*\")"
   ]
  },
  {
   "cell_type": "code",
   "execution_count": 32,
   "id": "56f02de1",
   "metadata": {},
   "outputs": [
    {
     "name": "stdout",
     "output_type": "stream",
     "text": [
      "*****\n",
      "*  *\n",
      "* *\n",
      "**\n",
      "*\n"
     ]
    }
   ],
   "source": [
    "for i in range(5,0,-1):\n",
    "    if i<=2:\n",
    "        print(i*\"*\")\n",
    "    elif i>2 and i<5:\n",
    "        print(\"*\"+\" \"*(i-2)+\"*\")\n",
    "    else:\n",
    "        print(i*\"*\")"
   ]
  },
  {
   "cell_type": "code",
   "execution_count": 39,
   "id": "58f0a192",
   "metadata": {},
   "outputs": [
    {
     "name": "stdout",
     "output_type": "stream",
     "text": [
      "    *\n",
      "   **\n",
      "  * *\n",
      " *  *\n",
      "*****\n"
     ]
    }
   ],
   "source": [
    "x=4\n",
    "for i in range(1,6):\n",
    "    if i<=2:\n",
    "        print(\" \"*x+i*\"*\")\n",
    "    elif i>2 and i<5:\n",
    "        print(\" \"*x+\"*\"+\" \"*(i-2)+\"*\")\n",
    "    else:\n",
    "        print(i*\"*\")\n",
    "        \n",
    "    x-=1"
   ]
  },
  {
   "cell_type": "code",
   "execution_count": 40,
   "id": "451dbded",
   "metadata": {},
   "outputs": [
    {
     "name": "stdout",
     "output_type": "stream",
     "text": [
      "*****\n",
      "*  *\n",
      "* *\n",
      "**\n",
      "*\n",
      "*\n",
      "**\n",
      "* *\n",
      "*  *\n",
      "*****\n"
     ]
    }
   ],
   "source": [
    "for i in range(5,0,-1):\n",
    "    if i<=2:\n",
    "        print(i*\"*\")\n",
    "    elif i>2 and i<5:\n",
    "        print(\"*\"+\" \"*(i-2)+\"*\")\n",
    "    else:\n",
    "        print(i*\"*\")\n",
    "        \n",
    "for i in range(1,6):\n",
    "    if i<=2:\n",
    "        print(i*\"*\")\n",
    "    elif i>2 and i<5:\n",
    "        print(\"*\"+\" \"*(i-2)+\"*\")\n",
    "    else:\n",
    "        print(i*\"*\")"
   ]
  },
  {
   "cell_type": "code",
   "execution_count": 82,
   "id": "eed80af3",
   "metadata": {},
   "outputs": [
    {
     "name": "stdout",
     "output_type": "stream",
     "text": [
      "    *\n",
      "   **\n",
      "  * *\n",
      " *  *\n",
      "*   *\n",
      " *  *\n",
      "  * *\n",
      "   **\n",
      "    *\n"
     ]
    }
   ],
   "source": [
    "x=4\n",
    "y=1\n",
    "z=2\n",
    "for i in range(1,6):\n",
    "    if i<=2:\n",
    "        print(\" \"*x+i*\"*\")\n",
    "    elif i>2 and i<6:\n",
    "        print(\" \"*x+\"*\"+\" \"*(i-2)+\"*\") \n",
    "    x-=1\n",
    "\n",
    "for i in range(4,0,-1):\n",
    "    if i>2 and i<=5:\n",
    "        print(\" \"*y+\"*\"+\" \"*z+\"*\")\n",
    "    elif i<=2:\n",
    "        print(\" \"*y+i*\"*\")\n",
    "    y=y+1\n",
    "    z=z-1"
   ]
  },
  {
   "cell_type": "code",
   "execution_count": 91,
   "id": "4e769ad8",
   "metadata": {
    "scrolled": true
   },
   "outputs": [
    {
     "name": "stdout",
     "output_type": "stream",
     "text": [
      " *  *\n",
      "  * *\n",
      "   **\n",
      "    *\n",
      "   **\n",
      "  * *\n",
      " *  *\n",
      "*   *\n"
     ]
    }
   ],
   "source": [
    "x=4\n",
    "y=1\n",
    "z=2\n",
    "for i in range(4,1,-1):\n",
    "    if i>2 and i<=5:\n",
    "        print(\" \"*y+\"*\"+\" \"*z+\"*\")\n",
    "    elif i<=2:\n",
    "        print(\" \"*y+i*\"*\")\n",
    "    y=y+1\n",
    "    z=z-1\n",
    "    \n",
    "for i in range(1,6):\n",
    "    if i<=2:\n",
    "        print(\" \"*x+i*\"*\")\n",
    "    elif i>2 and i<6:\n",
    "        print(\" \"*x+\"*\"+\" \"*(i-2)+\"*\") \n",
    "    x-=1"
   ]
  },
  {
   "cell_type": "code",
   "execution_count": 151,
   "id": "645c6ebf",
   "metadata": {},
   "outputs": [
    {
     "name": "stdout",
     "output_type": "stream",
     "text": [
      "     *     \n",
      "    * *    \n",
      "   *   *   \n",
      "  *     *  \n",
      " *       * \n",
      "***********\n"
     ]
    }
   ],
   "source": [
    "x=11\n",
    "for i in range(1,7):\n",
    "    if i<=1:\n",
    "        print((\"*\"*i).center(x,\" \"))\n",
    "    elif i>=2 and i<=5: \n",
    "        print((\"*\"+\" \"*((i-1)*2-1)+\"*\").center(x,\" \"))\n",
    "    else:\n",
    "        print(x*\"*\")"
   ]
  },
  {
   "cell_type": "code",
   "execution_count": 154,
   "id": "1d9ee42b",
   "metadata": {},
   "outputs": [
    {
     "name": "stdout",
     "output_type": "stream",
     "text": [
      "***********\n",
      " *       * \n",
      "  *     *  \n",
      "   *   *   \n",
      "    * *    \n",
      "     *     \n"
     ]
    }
   ],
   "source": [
    "x=11\n",
    "for i in range(6,0,-1):\n",
    "    if i<=1:\n",
    "        print((\"*\"*i).center(x,\" \"))\n",
    "    elif i>=2 and i<=5: \n",
    "        print((\"*\"+\" \"*((i-1)*2-1)+\"*\").center(x,\" \"))\n",
    "    else:\n",
    "        print(x*\"*\")"
   ]
  },
  {
   "cell_type": "code",
   "execution_count": 159,
   "id": "be667a7e",
   "metadata": {},
   "outputs": [
    {
     "name": "stdout",
     "output_type": "stream",
     "text": [
      "     *     \n",
      "    * *    \n",
      "   *   *   \n",
      "  *     *  \n",
      " *       * \n",
      "*         *\n",
      " *       * \n",
      "  *     *  \n",
      "   *   *   \n",
      "    * *    \n",
      "     *     \n"
     ]
    }
   ],
   "source": [
    "x=11\n",
    "for i in range(1,6):\n",
    "    if i<=1:\n",
    "        print((\"*\"*i).center(x,\" \"))\n",
    "    else:\n",
    "        print((\"*\"+\" \"*((i-1)*2-1)+\"*\").center(x,\" \"))\n",
    "    \n",
    "for i in range(6,0,-1):\n",
    "    if i<=1:\n",
    "        print((\"*\"*i).center(x,\" \"))\n",
    "    else: \n",
    "        print((\"*\"+\" \"*((i-1)*2-1)+\"*\").center(x,\" \"))"
   ]
  },
  {
   "cell_type": "code",
   "execution_count": 162,
   "id": "75a9403d",
   "metadata": {},
   "outputs": [
    {
     "name": "stdout",
     "output_type": "stream",
     "text": [
      "*         *\n",
      " *       * \n",
      "  *     *  \n",
      "   *   *   \n",
      "    * *    \n",
      "     *     \n",
      "    * *    \n",
      "   *   *   \n",
      "  *     *  \n",
      " *       * \n",
      "*         *\n"
     ]
    }
   ],
   "source": [
    "for i in range(6,1,-1):\n",
    "    if i<=1:\n",
    "        print((\"*\"*i).center(x,\" \"))\n",
    "    else: \n",
    "        print((\"*\"+\" \"*((i-1)*2-1)+\"*\").center(x,\" \"))\n",
    "        \n",
    "for i in range(1,7):\n",
    "    if i<=1:\n",
    "        print((\"*\"*i).center(x,\" \"))\n",
    "    else:\n",
    "        print((\"*\"+\" \"*((i-1)*2-1)+\"*\").center(x,\" \"))"
   ]
  },
  {
   "cell_type": "code",
   "execution_count": 163,
   "id": "548a8c2a",
   "metadata": {},
   "outputs": [
    {
     "name": "stdout",
     "output_type": "stream",
     "text": [
      "*****\n",
      "*****\n",
      "*****\n",
      "*****\n"
     ]
    }
   ],
   "source": [
    "x=5\n",
    "for i in range(1,5):\n",
    "    print(\"*\"*x)"
   ]
  },
  {
   "cell_type": "code",
   "execution_count": null,
   "id": "d788ed14",
   "metadata": {},
   "outputs": [],
   "source": []
  }
 ],
 "metadata": {
  "hide_input": false,
  "kernelspec": {
   "display_name": "Python 3 (ipykernel)",
   "language": "python",
   "name": "python3"
  },
  "language_info": {
   "codemirror_mode": {
    "name": "ipython",
    "version": 3
   },
   "file_extension": ".py",
   "mimetype": "text/x-python",
   "name": "python",
   "nbconvert_exporter": "python",
   "pygments_lexer": "ipython3",
   "version": "3.9.12"
  },
  "toc": {
   "base_numbering": 1,
   "nav_menu": {},
   "number_sections": true,
   "sideBar": true,
   "skip_h1_title": false,
   "title_cell": "Table of Contents",
   "title_sidebar": "Contents",
   "toc_cell": false,
   "toc_position": {},
   "toc_section_display": true,
   "toc_window_display": false
  }
 },
 "nbformat": 4,
 "nbformat_minor": 5
}
