{
 "cells": [
  {
   "cell_type": "code",
   "execution_count": null,
   "id": "4e226b86",
   "metadata": {},
   "outputs": [],
   "source": [
    "Pattern1"
   ]
  },
  {
   "cell_type": "code",
   "execution_count": 38,
   "id": "bb868ffd",
   "metadata": {},
   "outputs": [
    {
     "name": "stdout",
     "output_type": "stream",
     "text": [
      "\n",
      "\n",
      "1 \n",
      "\n",
      "1 2 \n",
      "\n",
      "1 2 3 \n",
      "\n",
      "1 2 3 4 \n",
      "\n",
      "1 2 3 4 5 \n",
      "\n"
     ]
    }
   ],
   "source": [
    "for i in range(1,7):\n",
    "    for j in range(1,i):\n",
    "        print(j, end=\" \")\n",
    "    print(\"\\n\")"
   ]
  },
  {
   "cell_type": "code",
   "execution_count": 28,
   "id": "b99936aa",
   "metadata": {},
   "outputs": [
    {
     "name": "stdout",
     "output_type": "stream",
     "text": [
      "\n",
      "\n",
      "A \n",
      "\n",
      "A B \n",
      "\n",
      "A B C \n",
      "\n",
      "A B C D \n",
      "\n",
      "A B C D E \n",
      "\n"
     ]
    }
   ],
   "source": [
    "for i in range(65, 71):\n",
    "    for j in range(65,i):\n",
    "        print(chr(j), end=\" \")\n",
    "    print(\"\\n\")"
   ]
  },
  {
   "cell_type": "code",
   "execution_count": 34,
   "id": "7223267b",
   "metadata": {},
   "outputs": [
    {
     "name": "stdout",
     "output_type": "stream",
     "text": [
      "* \n",
      "* * \n",
      "* * * \n",
      "* * * * \n",
      "* * * * * \n"
     ]
    }
   ],
   "source": [
    "for i in range(1,6):\n",
    "    print(\"* \"*i, end=\"\\n\")"
   ]
  },
  {
   "cell_type": "code",
   "execution_count": 301,
   "id": "d95360fc",
   "metadata": {},
   "outputs": [
    {
     "name": "stdout",
     "output_type": "stream",
     "text": [
      "1 \n",
      "\n",
      "2 2 \n",
      "\n",
      "3 3 3 \n",
      "\n",
      "4 4 4 4 \n",
      "\n",
      "5 5 5 5 5 \n",
      "\n",
      "6 6 6 6 6 6 \n",
      "\n"
     ]
    }
   ],
   "source": [
    "for i in range(1,7):\n",
    "    for j in range(0,i):\n",
    "        print(i, end=\" \")\n",
    "    print(\"\\n\")"
   ]
  },
  {
   "cell_type": "code",
   "execution_count": 52,
   "id": "ff8414d2",
   "metadata": {},
   "outputs": [
    {
     "name": "stdout",
     "output_type": "stream",
     "text": [
      "A\n",
      "BB\n",
      "CCC\n",
      "DDDD\n",
      "EEEEE\n",
      "FFFFFF\n"
     ]
    }
   ],
   "source": [
    "x=1\n",
    "for i in range(65, 71):\n",
    "    print(chr(i)*x, end=\"\\n\")\n",
    "    x=x+1\n",
    "   "
   ]
  },
  {
   "cell_type": "code",
   "execution_count": 62,
   "id": "5968abb6",
   "metadata": {},
   "outputs": [
    {
     "name": "stdout",
     "output_type": "stream",
     "text": [
      "      *\n",
      "     **\n",
      "    ***\n",
      "   ****\n",
      "  *****\n"
     ]
    }
   ],
   "source": [
    "x=1\n",
    "for i in range(5,0,-1):\n",
    "    print(\" \"*i,x*\"*\")\n",
    "    x=x+1"
   ]
  },
  {
   "cell_type": "code",
   "execution_count": 78,
   "id": "a4db5f25",
   "metadata": {},
   "outputs": [
    {
     "name": "stdout",
     "output_type": "stream",
     "text": [
      "     *      \n",
      "    ***     \n",
      "   *****    \n",
      "  *******   \n",
      " *********  \n",
      "*********** \n"
     ]
    }
   ],
   "source": [
    "for i in range(1,13,2):\n",
    "    print((i*\"*\").center(12,\" \"))"
   ]
  },
  {
   "cell_type": "code",
   "execution_count": 101,
   "id": "c6a48ad6",
   "metadata": {
    "scrolled": true
   },
   "outputs": [
    {
     "name": "stdout",
     "output_type": "stream",
     "text": [
      "     1     \n",
      "    1 2    \n",
      "   1 2 3   \n",
      "  1 2 3 4  \n",
      " 1 2 3 4 5 \n"
     ]
    }
   ],
   "source": [
    "s=\" \"\n",
    "for j in range(1,6):\n",
    "    s+=f\"{j}\"+\" \"\n",
    "    print(s.center(11, \" \"))\n",
    "s=\" \"\n"
   ]
  },
  {
   "cell_type": "code",
   "execution_count": 105,
   "id": "61e4967a",
   "metadata": {},
   "outputs": [
    {
     "name": "stdout",
     "output_type": "stream",
     "text": [
      "     5     \n",
      "    5 4    \n",
      "   5 4 3   \n",
      "  5 4 3 2  \n",
      " 5 4 3 2 1 \n"
     ]
    }
   ],
   "source": [
    "s=\" \"\n",
    "for j in range(5,0,-1):\n",
    "    s+=f\"{j}\"+\" \"\n",
    "    print(s.center(11, \" \"))\n",
    "s=\" \"\n"
   ]
  },
  {
   "cell_type": "code",
   "execution_count": null,
   "id": "f6e33e40",
   "metadata": {},
   "outputs": [],
   "source": []
  },
  {
   "cell_type": "code",
   "execution_count": null,
   "id": "52e42cc1",
   "metadata": {},
   "outputs": [],
   "source": []
  },
  {
   "cell_type": "code",
   "execution_count": 112,
   "id": "de97b282",
   "metadata": {},
   "outputs": [
    {
     "name": "stdout",
     "output_type": "stream",
     "text": [
      "     A      \n",
      "\n",
      "\n",
      "    A B     \n",
      "\n",
      "\n",
      "   A B C    \n",
      "\n",
      "\n",
      "  A B C D   \n",
      "\n",
      "\n",
      " A B C D E  \n",
      "\n",
      "\n",
      "A B C D E F \n",
      "\n",
      "\n"
     ]
    }
   ],
   "source": [
    "x=\"\"\n",
    "for i in range(65,71):\n",
    "        x=x+chr(i)+\" \"\n",
    "        print(x.center(12,\" \"))\n",
    "        print(\"\\n\")"
   ]
  },
  {
   "cell_type": "code",
   "execution_count": 217,
   "id": "60b6ec6c",
   "metadata": {},
   "outputs": [
    {
     "name": "stdout",
     "output_type": "stream",
     "text": [
      "     F      \n",
      "\n",
      "\n",
      "    F E     \n",
      "\n",
      "\n",
      "   F E D    \n",
      "\n",
      "\n",
      "  F E D C   \n",
      "\n",
      "\n",
      " F E D C B  \n",
      "\n",
      "\n",
      "F E D C B A \n",
      "\n",
      "\n"
     ]
    }
   ],
   "source": [
    "x=\"\"\n",
    "for i in range(70,64,-1):\n",
    "        x=x+chr(i)+\" \"\n",
    "        print(x.center(12,\" \"))\n",
    "        print(\"\\n\")"
   ]
  },
  {
   "cell_type": "code",
   "execution_count": 220,
   "id": "ec5cf68d",
   "metadata": {},
   "outputs": [
    {
     "name": "stdout",
     "output_type": "stream",
     "text": [
      "     *      \n",
      "    ***     \n",
      "   *****    \n",
      "  *******   \n",
      " *********  \n"
     ]
    }
   ],
   "source": [
    "for i in range(1,10,2):\n",
    "    str=\"*\"*i\n",
    "    print(str.center(12, \" \"))"
   ]
  },
  {
   "cell_type": "code",
   "execution_count": 123,
   "id": "d06d026d",
   "metadata": {
    "scrolled": false
   },
   "outputs": [
    {
     "name": "stdout",
     "output_type": "stream",
     "text": [
      "      1      \n",
      "     2 2     \n",
      "    3 3 3    \n",
      "   4 4 4 4   \n",
      "  5 5 5 5 5  \n",
      " 6 6 6 6 6 6 \n"
     ]
    }
   ],
   "source": [
    "s=\" \"\n",
    "for i in range(1,7):\n",
    "    for j in range(1,i+1):\n",
    "        s+=f\"{i}\"+\" \"\n",
    "    print(s.center(13, \" \"))\n",
    "    s=\" \"\n"
   ]
  },
  {
   "cell_type": "code",
   "execution_count": 129,
   "id": "904a18cb",
   "metadata": {
    "scrolled": true
   },
   "outputs": [
    {
     "name": "stdout",
     "output_type": "stream",
     "text": [
      "       A       \n",
      "      B B      \n",
      "     C C C     \n",
      "    D D D D    \n",
      "   E E E E E   \n",
      "  F F F F F F  \n",
      " G G G G G G G \n"
     ]
    }
   ],
   "source": [
    "s=\" \"\n",
    "for i in range(65,72):\n",
    "    for j in range(0,i-64):\n",
    "        s+=chr(i)+\" \"\n",
    "    print(s.center(15, \" \"))\n",
    "    s=\" \"\n"
   ]
  },
  {
   "cell_type": "code",
   "execution_count": null,
   "id": "abc20ca3",
   "metadata": {},
   "outputs": [],
   "source": []
  },
  {
   "cell_type": "code",
   "execution_count": 72,
   "id": "831b3e81",
   "metadata": {},
   "outputs": [
    {
     "name": "stdout",
     "output_type": "stream",
     "text": [
      "       1       \n",
      "      1 2      \n",
      "     1 2 3     \n",
      "    1 2 3 4    \n",
      "   1 2 3 4 5   \n",
      "  1 2 3 4 5 6  \n"
     ]
    }
   ],
   "source": [
    "s=\" \"\n",
    "for j in range (1,7):\n",
    "    s+=f\"{j}\"+\" \"\n",
    "    print(s.center(15,\" \"))\n",
    "s=\" \""
   ]
  },
  {
   "cell_type": "code",
   "execution_count": null,
   "id": "5cc14d34",
   "metadata": {},
   "outputs": [],
   "source": []
  },
  {
   "cell_type": "code",
   "execution_count": 364,
   "id": "b26fcd61",
   "metadata": {},
   "outputs": [
    {
     "name": "stdout",
     "output_type": "stream",
     "text": [
      "1 2 3 4 5 \n",
      "\n",
      "1 2 3 4 \n",
      "\n",
      "1 2 3 \n",
      "\n",
      "1 2 \n",
      "\n",
      "1 \n",
      "\n",
      "\n",
      "\n"
     ]
    }
   ],
   "source": [
    "for i in range(6,0,-1):\n",
    "    for j in range (1,i):\n",
    "        print(j, end=\" \")\n",
    "        \n",
    "    print(\"\\n\")"
   ]
  },
  {
   "cell_type": "code",
   "execution_count": 10,
   "id": "34507b8e",
   "metadata": {},
   "outputs": [
    {
     "name": "stdout",
     "output_type": "stream",
     "text": [
      "5 4 3 2 1 \n",
      "\n",
      "5 4 3 2 \n",
      "\n",
      "5 4 3 \n",
      "\n",
      "5 4 \n",
      "\n",
      "5 \n",
      "\n"
     ]
    }
   ],
   "source": [
    "x=5\n",
    "for i in range(5,0,-1):\n",
    "    for j in range (i,0,-1):\n",
    "        print(x, end=\" \")\n",
    "        x=x-1\n",
    "        \n",
    "    print(\"\\n\")\n",
    "    x=5"
   ]
  },
  {
   "cell_type": "code",
   "execution_count": 12,
   "id": "34bc7572",
   "metadata": {},
   "outputs": [
    {
     "name": "stdout",
     "output_type": "stream",
     "text": [
      "5 \n",
      "\n",
      "5 4 \n",
      "\n",
      "5 4 3 \n",
      "\n",
      "5 4 3 2 \n",
      "\n",
      "5 4 3 2 1 \n",
      "\n"
     ]
    }
   ],
   "source": [
    "x=5\n",
    "for i in range(1,6):\n",
    "    for j in range (i,0,-1):\n",
    "        print(x, end=\" \")\n",
    "        x=x-1\n",
    "        \n",
    "    print(\"\\n\")\n",
    "    x=5"
   ]
  },
  {
   "cell_type": "code",
   "execution_count": 15,
   "id": "d8fb1b8e",
   "metadata": {},
   "outputs": [
    {
     "name": "stdout",
     "output_type": "stream",
     "text": [
      "1 \n",
      "\n",
      "2 3 \n",
      "\n",
      "4 5 6 \n",
      "\n",
      "7 8 9 10 \n",
      "\n",
      "11 12 13 14 15 \n",
      "\n"
     ]
    }
   ],
   "source": [
    "x=1\n",
    "for i in range(1,6):\n",
    "    for j in range (i,0,-1):\n",
    "        print(x, end=\" \")\n",
    "        x=x+1\n",
    "        \n",
    "    print(\"\\n\")"
   ]
  },
  {
   "cell_type": "code",
   "execution_count": 31,
   "id": "b4cb9d1e",
   "metadata": {
    "scrolled": true
   },
   "outputs": [
    {
     "name": "stdout",
     "output_type": "stream",
     "text": [
      "A B C D E \n",
      "\n",
      "A B C D \n",
      "\n",
      "A B C \n",
      "\n",
      "A B \n",
      "\n",
      "A \n",
      "\n"
     ]
    }
   ],
   "source": [
    "for i in range(1,6):\n",
    "    for j in range (65,71-i):\n",
    "        print(chr(j), end=\" \")\n",
    "        \n",
    "    print(\"\\n\")"
   ]
  }
 ],
 "metadata": {
  "hide_input": false,
  "kernelspec": {
   "display_name": "Python 3 (ipykernel)",
   "language": "python",
   "name": "python3"
  },
  "language_info": {
   "codemirror_mode": {
    "name": "ipython",
    "version": 3
   },
   "file_extension": ".py",
   "mimetype": "text/x-python",
   "name": "python",
   "nbconvert_exporter": "python",
   "pygments_lexer": "ipython3",
   "version": "3.9.12"
  },
  "toc": {
   "base_numbering": 1,
   "nav_menu": {},
   "number_sections": true,
   "sideBar": true,
   "skip_h1_title": false,
   "title_cell": "Table of Contents",
   "title_sidebar": "Contents",
   "toc_cell": false,
   "toc_position": {},
   "toc_section_display": true,
   "toc_window_display": false
  }
 },
 "nbformat": 4,
 "nbformat_minor": 5
}
