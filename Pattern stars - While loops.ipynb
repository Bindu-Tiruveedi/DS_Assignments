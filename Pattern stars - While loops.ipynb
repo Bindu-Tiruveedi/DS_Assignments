{
 "cells": [
  {
   "cell_type": "code",
   "execution_count": 4,
   "id": "1d431e76",
   "metadata": {},
   "outputs": [
    {
     "name": "stdout",
     "output_type": "stream",
     "text": [
      "*****\n",
      "****\n",
      "***\n",
      "**\n",
      "*\n",
      "\n"
     ]
    }
   ],
   "source": [
    "i=5\n",
    "n=0\n",
    "while i>=n:\n",
    "    print(\"*\"*i)\n",
    "    i-=1"
   ]
  },
  {
   "cell_type": "code",
   "execution_count": 5,
   "id": "d495ae61",
   "metadata": {},
   "outputs": [
    {
     "name": "stdout",
     "output_type": "stream",
     "text": [
      "      *\n",
      "     **\n",
      "    ***\n",
      "   ****\n",
      "  *****\n",
      " ******\n"
     ]
    }
   ],
   "source": [
    "x=5\n",
    "i=1\n",
    "n=6\n",
    "while i<=n:\n",
    "    print(\" \"*x, \"*\"*i)\n",
    "    x=x-1\n",
    "    i=i+1\n",
    "    "
   ]
  },
  {
   "cell_type": "code",
   "execution_count": 11,
   "id": "41a4c177",
   "metadata": {},
   "outputs": [
    {
     "name": "stdout",
     "output_type": "stream",
     "text": [
      " ******\n",
      " *****\n",
      " ****\n",
      " ***\n",
      " **\n",
      " *\n"
     ]
    }
   ],
   "source": [
    "x=0\n",
    "i=6\n",
    "n=1\n",
    "while i>=n:\n",
    "    print(\" \"*x, \"*\"*i)\n",
    "    x=x-1\n",
    "    i=i-1\n",
    "    "
   ]
  },
  {
   "cell_type": "code",
   "execution_count": 17,
   "id": "6efe3426",
   "metadata": {},
   "outputs": [
    {
     "name": "stdout",
     "output_type": "stream",
     "text": [
      "*\n",
      "**\n",
      "***\n",
      "****\n",
      "*****\n",
      "******\n",
      "*****\n",
      "****\n",
      "***\n",
      "**\n",
      "*\n",
      "\n"
     ]
    }
   ],
   "source": [
    "i=1\n",
    "n=6\n",
    "while i<=n:\n",
    "    print(\"*\"*i)\n",
    "    i=i+1\n",
    "    \n",
    "\n",
    "i=5\n",
    "n=0\n",
    "while i>=n:\n",
    "    print(\"*\"*i)\n",
    "    i=i-1\n",
    "    "
   ]
  },
  {
   "cell_type": "code",
   "execution_count": 24,
   "id": "bb077ba1",
   "metadata": {},
   "outputs": [
    {
     "name": "stdout",
     "output_type": "stream",
     "text": [
      "******\n",
      "*****\n",
      "****\n",
      "***\n",
      "**\n",
      "*\n",
      "*\n",
      "**\n",
      "***\n",
      "****\n",
      "*****\n",
      "******\n"
     ]
    }
   ],
   "source": [
    "i=6\n",
    "n=1\n",
    "while i>=n:\n",
    "    print(\"*\"*i)\n",
    "    i=i-1\n",
    "i=1\n",
    "n=6\n",
    "while i<=n:\n",
    "    print(\"*\"*i)\n",
    "    i=i+1\n",
    "            \n"
   ]
  },
  {
   "cell_type": "code",
   "execution_count": 31,
   "id": "9d4a14d6",
   "metadata": {},
   "outputs": [
    {
     "name": "stdout",
     "output_type": "stream",
     "text": [
      "      *\n",
      "     **\n",
      "    ***\n",
      "   ****\n",
      "  *****\n",
      " ******\n",
      "  *****\n",
      "   ****\n",
      "    ***\n",
      "     **\n",
      "      *\n",
      "       \n"
     ]
    }
   ],
   "source": [
    "x=5\n",
    "i=1\n",
    "n=6\n",
    "while i<=n:\n",
    "    print(\" \"*x, \"*\"*i)\n",
    "    x=x-1\n",
    "    i=i+1\n",
    "    \n",
    "i=5\n",
    "n=0\n",
    "x=1\n",
    "while i>=n:\n",
    "    print(\" \"*x, \"*\"*i)\n",
    "    x=x+1\n",
    "    i=i-1\n",
    "    "
   ]
  },
  {
   "cell_type": "code",
   "execution_count": 38,
   "id": "8b068d12",
   "metadata": {},
   "outputs": [
    {
     "name": "stdout",
     "output_type": "stream",
     "text": [
      "  *****\n",
      "   ****\n",
      "    ***\n",
      "     **\n",
      "      *\n",
      "     **\n",
      "    ***\n",
      "   ****\n",
      "  *****\n"
     ]
    }
   ],
   "source": [
    "i=5\n",
    "n=1\n",
    "x=1\n",
    "while i>n:\n",
    "    print(\" \"*x, \"*\"*i)\n",
    "    x=x+1\n",
    "    i=i-1\n",
    "    \n",
    "x=5\n",
    "i=1\n",
    "n=5\n",
    "while i<=n:\n",
    "    print(\" \"*x, \"*\"*i)\n",
    "    x=x-1\n",
    "    i=i+1"
   ]
  },
  {
   "cell_type": "code",
   "execution_count": 40,
   "id": "ea5ded97",
   "metadata": {},
   "outputs": [
    {
     "name": "stdout",
     "output_type": "stream",
     "text": [
      "     *      \n",
      "    ***     \n",
      "   *****    \n",
      "  *******   \n",
      " *********  \n"
     ]
    }
   ],
   "source": [
    "x=\"\"\n",
    "i=1\n",
    "n=10\n",
    "while i<=n:\n",
    "    x= i*\"*\"\n",
    "    print(x.center(12, \" \"))\n",
    "    i=i+2"
   ]
  },
  {
   "cell_type": "code",
   "execution_count": 45,
   "id": "cafcadf9",
   "metadata": {},
   "outputs": [
    {
     "name": "stdout",
     "output_type": "stream",
     "text": [
      "*********** \n",
      " *********  \n",
      "  *******   \n",
      "   *****    \n",
      "    ***     \n",
      "     *      \n",
      "     *      \n",
      "    ***     \n",
      "   *****    \n",
      "  *******   \n",
      " *********  \n",
      "*********** \n"
     ]
    }
   ],
   "source": [
    "x=\"\"\n",
    "i=11\n",
    "n=1\n",
    "while i>=n:\n",
    "    x= i*\"*\"\n",
    "    print(x.center(12, \" \"))\n",
    "    i=i-2\n",
    "    \n",
    "x=\"\"\n",
    "i=1\n",
    "n=12\n",
    "while i<=n:\n",
    "    x= i*\"*\"\n",
    "    print(x.center(12, \" \"))\n",
    "    i=i+2"
   ]
  },
  {
   "cell_type": "code",
   "execution_count": 47,
   "id": "db71def2",
   "metadata": {},
   "outputs": [
    {
     "name": "stdout",
     "output_type": "stream",
     "text": [
      "*          *\n",
      "**        **\n",
      "***      ***\n",
      "****    ****\n",
      "*****  *****\n",
      "************\n"
     ]
    }
   ],
   "source": [
    "x=10\n",
    "i=1\n",
    "n=6\n",
    "while i<=n:\n",
    "    print(i*\"*\"+\" \"*x+i*\"*\")\n",
    "    x=x-2\n",
    "    i=i+1\n",
    "\n"
   ]
  },
  {
   "cell_type": "code",
   "execution_count": 49,
   "id": "58325387",
   "metadata": {},
   "outputs": [
    {
     "name": "stdout",
     "output_type": "stream",
     "text": [
      "**********\n",
      "****  ****\n",
      "***    ***\n",
      "**      **\n",
      "*        *\n",
      "          \n"
     ]
    }
   ],
   "source": [
    "x=0\n",
    "i=5\n",
    "n=0\n",
    "while i>=n:\n",
    "    print(i*\"*\"+\" \"*x+i*\"*\")\n",
    "    x=x+2\n",
    "    i=i-1\n",
    "\n"
   ]
  },
  {
   "cell_type": "code",
   "execution_count": 52,
   "id": "ccd83929",
   "metadata": {},
   "outputs": [
    {
     "name": "stdout",
     "output_type": "stream",
     "text": [
      "*          *\n",
      "**        **\n",
      "***      ***\n",
      "****    ****\n",
      "*****  *****\n",
      "************\n",
      "*****  *****\n",
      "****    ****\n",
      "***      ***\n",
      "**        **\n",
      "*          *\n"
     ]
    }
   ],
   "source": [
    "x=10\n",
    "i=1\n",
    "n=6\n",
    "while i<n:\n",
    "    print(i*\"*\"+\" \"*x+i*\"*\")\n",
    "    x=x-2\n",
    "    i=i+1\n",
    "\n",
    "x=0\n",
    "i=6\n",
    "n=1\n",
    "while i>=n:\n",
    "    print(i*\"*\"+\" \"*x+i*\"*\")\n",
    "    x=x+2\n",
    "    i=i-1"
   ]
  },
  {
   "cell_type": "code",
   "execution_count": 54,
   "id": "0c187790",
   "metadata": {},
   "outputs": [
    {
     "name": "stdout",
     "output_type": "stream",
     "text": [
      "************\n",
      "*****  *****\n",
      "****    ****\n",
      "***      ***\n",
      "**        **\n",
      "*          *\n",
      "*          *\n",
      "**        **\n",
      "***      ***\n",
      "****    ****\n",
      "*****  *****\n"
     ]
    }
   ],
   "source": [
    "x=0\n",
    "i=6\n",
    "n=1\n",
    "while i>=n:\n",
    "    print(i*\"*\"+\" \"*x+i*\"*\")\n",
    "    x=x+2\n",
    "    i=i-1\n",
    "    \n",
    "x=10\n",
    "i=1\n",
    "n=6\n",
    "while i<n:\n",
    "    print(i*\"*\"+\" \"*x+i*\"*\")\n",
    "    x=x-2\n",
    "    i=i+1"
   ]
  },
  {
   "cell_type": "code",
   "execution_count": 58,
   "id": "eccb709c",
   "metadata": {},
   "outputs": [
    {
     "name": "stdout",
     "output_type": "stream",
     "text": [
      "*\n",
      "**\n",
      "* *\n",
      "*  *\n",
      "*****\n"
     ]
    }
   ],
   "source": [
    "i=1\n",
    "n=5\n",
    "\n",
    "while i<=n:\n",
    "    if i<=2:\n",
    "        print(i*\"*\")\n",
    "        i+=1\n",
    "    elif i>2 and i<5:\n",
    "        print(\"*\"+\" \"*(i-2)+\"*\")\n",
    "        i+=1\n",
    "    else:\n",
    "        print(i*\"*\")\n",
    "        i+=1"
   ]
  },
  {
   "cell_type": "code",
   "execution_count": 61,
   "id": "56f02de1",
   "metadata": {},
   "outputs": [
    {
     "name": "stdout",
     "output_type": "stream",
     "text": [
      "*****\n",
      "*  *\n",
      "* *\n",
      "**\n",
      "*\n"
     ]
    }
   ],
   "source": [
    "i=5\n",
    "n=1\n",
    "\n",
    "while i>=n:\n",
    "    if i<=2:\n",
    "        print(i*\"*\")\n",
    "        i-=1\n",
    "    elif i>2 and i<5:\n",
    "        print(\"*\"+\" \"*(i-2)+\"*\")\n",
    "        i-=1\n",
    "    else:\n",
    "        print(i*\"*\")\n",
    "        i-=1"
   ]
  },
  {
   "cell_type": "code",
   "execution_count": 63,
   "id": "58f0a192",
   "metadata": {},
   "outputs": [
    {
     "name": "stdout",
     "output_type": "stream",
     "text": [
      "    *\n",
      "   **\n",
      "  * *\n",
      " *  *\n",
      "*****\n"
     ]
    }
   ],
   "source": [
    "x=4\n",
    "i=1\n",
    "n=5\n",
    "while i<=n:\n",
    "    if i<=2:\n",
    "        print(\" \"*x+i*\"*\")\n",
    "        i+=1\n",
    "    elif i>2 and i<5:\n",
    "        print(\" \"*x+\"*\"+\" \"*(i-2)+\"*\")\n",
    "        i+=1\n",
    "    else:\n",
    "        print(i*\"*\")\n",
    "        i+=1\n",
    "        \n",
    "    x-=1"
   ]
  },
  {
   "cell_type": "code",
   "execution_count": 66,
   "id": "451dbded",
   "metadata": {},
   "outputs": [
    {
     "name": "stdout",
     "output_type": "stream",
     "text": [
      "*****\n",
      "*  *\n",
      "* *\n",
      "**\n",
      "*\n",
      "*\n",
      "**\n",
      "* *\n",
      "*  *\n",
      "*****\n"
     ]
    }
   ],
   "source": [
    "i=5\n",
    "n=1\n",
    "\n",
    "while i>=n:\n",
    "    if i<=2:\n",
    "        print(i*\"*\")\n",
    "        i-=1\n",
    "    elif i>2 and i<5:\n",
    "        print(\"*\"+\" \"*(i-2)+\"*\")\n",
    "        i-=1\n",
    "    else:\n",
    "        print(i*\"*\")\n",
    "        i-=1\n",
    "i=1\n",
    "n=5\n",
    "\n",
    "while i<=n:\n",
    "    if i<=2:\n",
    "        print(i*\"*\")\n",
    "        i+=1\n",
    "    elif i>2 and i<5:\n",
    "        print(\"*\"+\" \"*(i-2)+\"*\")\n",
    "        i+=1\n",
    "    else:\n",
    "        print(i*\"*\")\n",
    "        i+=1"
   ]
  },
  {
   "cell_type": "code",
   "execution_count": 89,
   "id": "eed80af3",
   "metadata": {},
   "outputs": [
    {
     "name": "stdout",
     "output_type": "stream",
     "text": [
      "    *\n",
      "   **\n",
      "  * *\n",
      " *  *\n",
      "*   *\n",
      " *  *\n",
      "  * *\n",
      "   **\n",
      "    *\n"
     ]
    }
   ],
   "source": [
    "x=4\n",
    "y=1\n",
    "z=2\n",
    "i=1\n",
    "n=5\n",
    "while i<=n:\n",
    "    if i<=2:\n",
    "        print(\" \"*x+i*\"*\")\n",
    "        i+=1\n",
    "    elif i>2 and i<6:\n",
    "        print(\" \"*x+\"*\"+\" \"*(i-2)+\"*\") \n",
    "        i+=1\n",
    "    x-=1\n",
    "\n",
    "i=4\n",
    "n=1\n",
    "while i>=n:\n",
    "    if i>2 and i<=5:\n",
    "        print(\" \"*y+\"*\"+\" \"*z+\"*\")\n",
    "        i-=1\n",
    "    elif i<=2:\n",
    "        print(\" \"*y+i*\"*\")\n",
    "        i-=1\n",
    "    y=y+1\n",
    "    z=z-1"
   ]
  },
  {
   "cell_type": "code",
   "execution_count": 91,
   "id": "4e769ad8",
   "metadata": {
    "scrolled": true
   },
   "outputs": [
    {
     "name": "stdout",
     "output_type": "stream",
     "text": [
      " *  *\n",
      "  * *\n",
      "   **\n",
      "    *\n",
      "    *\n",
      "   **\n",
      "  * *\n",
      " *  *\n",
      "*   *\n"
     ]
    }
   ],
   "source": [
    "x=4\n",
    "y=1\n",
    "z=2\n",
    "i=4\n",
    "n=1\n",
    "while i>=n:\n",
    "    if i>2 and i<=5:\n",
    "        print(\" \"*y+\"*\"+\" \"*z+\"*\")\n",
    "        i-=1\n",
    "    elif i<=2:\n",
    "        print(\" \"*y+i*\"*\")\n",
    "        i-=1\n",
    "    y=y+1\n",
    "    z=z-1\n",
    "    \n",
    "\n",
    "i=1\n",
    "n=5\n",
    "while i<=n:\n",
    "    if i<=2:\n",
    "        print(\" \"*x+i*\"*\")\n",
    "        i+=1\n",
    "    elif i>2 and i<6:\n",
    "        print(\" \"*x+\"*\"+\" \"*(i-2)+\"*\") \n",
    "        i+=1\n",
    "    x-=1"
   ]
  },
  {
   "cell_type": "code",
   "execution_count": 95,
   "id": "645c6ebf",
   "metadata": {},
   "outputs": [
    {
     "name": "stdout",
     "output_type": "stream",
     "text": [
      "     *     \n",
      "    * *    \n",
      "   *   *   \n",
      "  *     *  \n",
      " *       * \n",
      "***********\n"
     ]
    }
   ],
   "source": [
    "x=11\n",
    "i=1\n",
    "n=6\n",
    "while i<=n:\n",
    "    if i<=1:\n",
    "        print((\"*\"*i).center(x,\" \"))\n",
    "        i+=1\n",
    "    elif i>=2 and i<=5: \n",
    "        print((\"*\"+\" \"*((i-1)*2-1)+\"*\").center(x,\" \"))\n",
    "        i+=1\n",
    "    else:\n",
    "        print(x*\"*\")\n",
    "        i+=1"
   ]
  },
  {
   "cell_type": "code",
   "execution_count": 97,
   "id": "1d9ee42b",
   "metadata": {},
   "outputs": [
    {
     "name": "stdout",
     "output_type": "stream",
     "text": [
      "***********\n",
      " *       * \n",
      "  *     *  \n",
      "   *   *   \n",
      "    * *    \n",
      "     *     \n"
     ]
    }
   ],
   "source": [
    "x=11\n",
    "i=6\n",
    "n=1\n",
    "while i>=n:\n",
    "    if i<=1:\n",
    "        print((\"*\"*i).center(x,\" \"))\n",
    "        i-=1\n",
    "    elif i>=2 and i<=5: \n",
    "        print((\"*\"+\" \"*((i-1)*2-1)+\"*\").center(x,\" \"))\n",
    "        i-=1\n",
    "    else:\n",
    "        print(x*\"*\")\n",
    "        i-=1"
   ]
  },
  {
   "cell_type": "code",
   "execution_count": 100,
   "id": "be667a7e",
   "metadata": {},
   "outputs": [
    {
     "name": "stdout",
     "output_type": "stream",
     "text": [
      "     *     \n",
      "    * *    \n",
      "   *   *   \n",
      "  *     *  \n",
      " *       * \n",
      "*         *\n",
      "***********\n",
      " *       * \n",
      "  *     *  \n",
      "   *   *   \n",
      "    * *    \n",
      "     *     \n"
     ]
    }
   ],
   "source": [
    "x=11\n",
    "i=1\n",
    "n=6\n",
    "while i<=n:\n",
    "    if i<=1:\n",
    "        print((\"*\"*i).center(x,\" \"))\n",
    "        i+=1\n",
    "    else:\n",
    "        print((\"*\"+\" \"*((i-1)*2-1)+\"*\").center(x,\" \"))\n",
    "        i+=1\n",
    "   \n",
    "        \n",
    "x=11\n",
    "i=6\n",
    "n=1\n",
    "while i>=n:\n",
    "    if i<=1:\n",
    "        print((\"*\"*i).center(x,\" \"))\n",
    "        i-=1\n",
    "    elif i>=2 and i<=5: \n",
    "        print((\"*\"+\" \"*((i-1)*2-1)+\"*\").center(x,\" \"))\n",
    "        i-=1\n",
    "    else:\n",
    "        print(x*\"*\")\n",
    "        i-=1"
   ]
  },
  {
   "cell_type": "code",
   "execution_count": 102,
   "id": "75a9403d",
   "metadata": {},
   "outputs": [
    {
     "name": "stdout",
     "output_type": "stream",
     "text": [
      "*         *\n",
      " *       * \n",
      "  *     *  \n",
      "   *   *   \n",
      "    * *    \n",
      "     *     \n",
      "    * *    \n",
      "   *   *   \n",
      "  *     *  \n",
      " *       * \n",
      "*         *\n"
     ]
    }
   ],
   "source": [
    "x=11\n",
    "i=6\n",
    "n=1\n",
    "while i>n:\n",
    "    if i<=1:\n",
    "        print((\"*\"*i).center(x,\" \"))\n",
    "        i-=1\n",
    "    else: \n",
    "        print((\"*\"+\" \"*((i-1)*2-1)+\"*\").center(x,\" \"))\n",
    "        i-=1\n",
    "\n",
    "        \n",
    "x=11\n",
    "i=1\n",
    "n=6\n",
    "while i<=n:\n",
    "    if i<=1:\n",
    "        print((\"*\"*i).center(x,\" \"))\n",
    "        i+=1\n",
    "    else:\n",
    "        print((\"*\"+\" \"*((i-1)*2-1)+\"*\").center(x,\" \"))\n",
    "        i+=1\n",
    "   \n",
    "        \n"
   ]
  },
  {
   "cell_type": "code",
   "execution_count": 93,
   "id": "548a8c2a",
   "metadata": {},
   "outputs": [
    {
     "name": "stdout",
     "output_type": "stream",
     "text": [
      "*****\n",
      "*****\n",
      "*****\n",
      "*****\n",
      "*****\n"
     ]
    }
   ],
   "source": [
    "x=5\n",
    "i=1\n",
    "n=5\n",
    "while i<=n:\n",
    "    print(\"*\"*x)\n",
    "    i=i+1"
   ]
  },
  {
   "cell_type": "code",
   "execution_count": null,
   "id": "d788ed14",
   "metadata": {},
   "outputs": [],
   "source": []
  }
 ],
 "metadata": {
  "hide_input": false,
  "kernelspec": {
   "display_name": "Python 3 (ipykernel)",
   "language": "python",
   "name": "python3"
  },
  "language_info": {
   "codemirror_mode": {
    "name": "ipython",
    "version": 3
   },
   "file_extension": ".py",
   "mimetype": "text/x-python",
   "name": "python",
   "nbconvert_exporter": "python",
   "pygments_lexer": "ipython3",
   "version": "3.9.12"
  },
  "toc": {
   "base_numbering": 1,
   "nav_menu": {},
   "number_sections": true,
   "sideBar": true,
   "skip_h1_title": false,
   "title_cell": "Table of Contents",
   "title_sidebar": "Contents",
   "toc_cell": false,
   "toc_position": {},
   "toc_section_display": true,
   "toc_window_display": false
  }
 },
 "nbformat": 4,
 "nbformat_minor": 5
}
